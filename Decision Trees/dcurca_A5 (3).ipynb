{
 "cells": [
  {
   "cell_type": "markdown",
   "metadata": {},
   "source": [
    "# Assignment 5: Decision Trees and Ensemble Methods [ __ / 70  marks]\n",
    "\n",
    "<img src=\"https://datasciencetoday.net/images/2018/11/27/tree.png\">\n",
    "\n",
    "For this assignment we will use standalone and ensembled decision trees (Bagging, AdaBoost) in order to predict whether particular red wines are `high quality` or `low quality` based on some associated input features (e.g., fixed acidity, residual sugar, density, alcohol, etc). \n",
    "\n",
    "We will first import our data. Next, we will apply the pre-processing steps. Finally, we will construct and compare models. There will also be some communication questions along the way. \n",
    "\n",
    "I hope this week's lesson and this assignment will make you more comfortable with using and thinking about decision trees --- they're a very powerful tool."
   ]
  },
  {
   "cell_type": "markdown",
   "metadata": {},
   "source": [
    "## Before you start...\n",
    "* check out the relevant lecture code for reference (`L9_CF.ipynb`)"
   ]
  },
  {
   "cell_type": "markdown",
   "metadata": {},
   "source": [
    "## Before you submit...\n",
    "* restart the kernel, then re-run the whole notebook to ensure no errors"
   ]
  },
  {
   "cell_type": "code",
   "execution_count": 1,
   "metadata": {},
   "outputs": [],
   "source": [
    "# Importing required packages\n",
    "import pandas as pd\n",
    "import numpy as np\n",
    "from scipy import stats\n",
    "from sklearn.tree import DecisionTreeClassifier\n",
    "from sklearn.ensemble import AdaBoostClassifier\n",
    "from sklearn.model_selection import train_test_split, cross_val_score\n",
    "from sklearn.metrics import accuracy_score\n",
    "\n",
    "import matplotlib.pyplot as plt\n",
    "%matplotlib inline"
   ]
  },
  {
   "cell_type": "markdown",
   "metadata": {},
   "source": [
    "## Question 1.1 [ _ /3 marks]\n",
    "\n",
    "Read the file `winequality-red.csv` into a pandas DataFrame. Display the first 5 rows of the DataFrame. Make sure to remove the semicolons.\n",
    "\n",
    "`Hint`: Sometimes you will see that dataset entries are separated by `;`,`,`,`&`. You can use the `sep` argument in `read_csv()` to format it properly."
   ]
  },
  {
   "cell_type": "code",
   "execution_count": 11,
   "metadata": {
    "scrolled": true
   },
   "outputs": [
    {
     "data": {
      "text/html": [
       "<div>\n",
       "<style scoped>\n",
       "    .dataframe tbody tr th:only-of-type {\n",
       "        vertical-align: middle;\n",
       "    }\n",
       "\n",
       "    .dataframe tbody tr th {\n",
       "        vertical-align: top;\n",
       "    }\n",
       "\n",
       "    .dataframe thead th {\n",
       "        text-align: right;\n",
       "    }\n",
       "</style>\n",
       "<table border=\"1\" class=\"dataframe\">\n",
       "  <thead>\n",
       "    <tr style=\"text-align: right;\">\n",
       "      <th></th>\n",
       "      <th>fixed acidity</th>\n",
       "      <th>volatile acidity</th>\n",
       "      <th>citric acid</th>\n",
       "      <th>residual sugar</th>\n",
       "      <th>chlorides</th>\n",
       "      <th>free sulfur dioxide</th>\n",
       "      <th>total sulfur dioxide</th>\n",
       "      <th>density</th>\n",
       "      <th>pH</th>\n",
       "      <th>sulphates</th>\n",
       "      <th>alcohol</th>\n",
       "      <th>quality</th>\n",
       "    </tr>\n",
       "  </thead>\n",
       "  <tbody>\n",
       "    <tr>\n",
       "      <th>0</th>\n",
       "      <td>7.4</td>\n",
       "      <td>0.70</td>\n",
       "      <td>0.00</td>\n",
       "      <td>1.9</td>\n",
       "      <td>0.076</td>\n",
       "      <td>11.0</td>\n",
       "      <td>34.0</td>\n",
       "      <td>0.9978</td>\n",
       "      <td>3.51</td>\n",
       "      <td>0.56</td>\n",
       "      <td>9.4</td>\n",
       "      <td>5</td>\n",
       "    </tr>\n",
       "    <tr>\n",
       "      <th>1</th>\n",
       "      <td>7.8</td>\n",
       "      <td>0.88</td>\n",
       "      <td>0.00</td>\n",
       "      <td>2.6</td>\n",
       "      <td>0.098</td>\n",
       "      <td>25.0</td>\n",
       "      <td>67.0</td>\n",
       "      <td>0.9968</td>\n",
       "      <td>3.20</td>\n",
       "      <td>0.68</td>\n",
       "      <td>9.8</td>\n",
       "      <td>5</td>\n",
       "    </tr>\n",
       "    <tr>\n",
       "      <th>2</th>\n",
       "      <td>7.8</td>\n",
       "      <td>0.76</td>\n",
       "      <td>0.04</td>\n",
       "      <td>2.3</td>\n",
       "      <td>0.092</td>\n",
       "      <td>15.0</td>\n",
       "      <td>54.0</td>\n",
       "      <td>0.9970</td>\n",
       "      <td>3.26</td>\n",
       "      <td>0.65</td>\n",
       "      <td>9.8</td>\n",
       "      <td>5</td>\n",
       "    </tr>\n",
       "    <tr>\n",
       "      <th>3</th>\n",
       "      <td>11.2</td>\n",
       "      <td>0.28</td>\n",
       "      <td>0.56</td>\n",
       "      <td>1.9</td>\n",
       "      <td>0.075</td>\n",
       "      <td>17.0</td>\n",
       "      <td>60.0</td>\n",
       "      <td>0.9980</td>\n",
       "      <td>3.16</td>\n",
       "      <td>0.58</td>\n",
       "      <td>9.8</td>\n",
       "      <td>6</td>\n",
       "    </tr>\n",
       "    <tr>\n",
       "      <th>4</th>\n",
       "      <td>7.4</td>\n",
       "      <td>0.70</td>\n",
       "      <td>0.00</td>\n",
       "      <td>1.9</td>\n",
       "      <td>0.076</td>\n",
       "      <td>11.0</td>\n",
       "      <td>34.0</td>\n",
       "      <td>0.9978</td>\n",
       "      <td>3.51</td>\n",
       "      <td>0.56</td>\n",
       "      <td>9.4</td>\n",
       "      <td>5</td>\n",
       "    </tr>\n",
       "  </tbody>\n",
       "</table>\n",
       "</div>"
      ],
      "text/plain": [
       "   fixed acidity  volatile acidity  citric acid  residual sugar  chlorides  \\\n",
       "0            7.4              0.70         0.00             1.9      0.076   \n",
       "1            7.8              0.88         0.00             2.6      0.098   \n",
       "2            7.8              0.76         0.04             2.3      0.092   \n",
       "3           11.2              0.28         0.56             1.9      0.075   \n",
       "4            7.4              0.70         0.00             1.9      0.076   \n",
       "\n",
       "   free sulfur dioxide  total sulfur dioxide  density    pH  sulphates  \\\n",
       "0                 11.0                  34.0   0.9978  3.51       0.56   \n",
       "1                 25.0                  67.0   0.9968  3.20       0.68   \n",
       "2                 15.0                  54.0   0.9970  3.26       0.65   \n",
       "3                 17.0                  60.0   0.9980  3.16       0.58   \n",
       "4                 11.0                  34.0   0.9978  3.51       0.56   \n",
       "\n",
       "   alcohol  quality  \n",
       "0      9.4        5  \n",
       "1      9.8        5  \n",
       "2      9.8        5  \n",
       "3      9.8        6  \n",
       "4      9.4        5  "
      ]
     },
     "execution_count": 11,
     "metadata": {},
     "output_type": "execute_result"
    }
   ],
   "source": [
    "# ****** your code here ******\n",
    "df = pd.read_csv(\"winequality-red.csv\", sep=\";\")\n",
    "df.head()\n"
   ]
  },
  {
   "cell_type": "markdown",
   "metadata": {},
   "source": [
    "## Question 1.2 [ _ /7 marks]\n",
    "\n",
    "Before building our models, we will need to **preprocess** the data. Instead of using the 10-class column ('quality') directly, let's just focus on classifying red wines as `'high quality'` or `'low quality'` by manually assigning a threshold. We will consider wines with 'quality' 7 or higher as **'high quality'** (class label `1`) and those with 'quality' 6 or lower as **'low quality'** (class label `0`). Replace the `quality` column with your new column (`CLASS`). \n",
    "\n",
    "Display the first 5 rows of the new dataframe. How many instances of class `0` and class `1` are there? [ /1 mark] Is the data class-balanced? [ /1 mark] "
   ]
  },
  {
   "cell_type": "code",
   "execution_count": 12,
   "metadata": {
    "scrolled": true
   },
   "outputs": [
    {
     "data": {
      "text/plain": [
       "0    1382\n",
       "1     217\n",
       "Name: CLASS, dtype: int64"
      ]
     },
     "execution_count": 12,
     "metadata": {},
     "output_type": "execute_result"
    }
   ],
   "source": [
    "# Replace dependent variable 'quality' with `CLASS` (labels 0 and 1) [ /4 marks]\n",
    "df = df.rename(columns={\"quality\": \"CLASS\"})\n",
    "df['CLASS'] = np.where(df['CLASS']>6, 1, 0)\n",
    "df.head()\n",
    "\n",
    "# How many instances of class 0 and class 1 are there in the data? (code) [ /1 mark]\n",
    "df.CLASS.value_counts()\n"
   ]
  },
  {
   "cell_type": "markdown",
   "metadata": {},
   "source": [
    "**Your Answer**: There are 1382 instances of \"low quality\" wine where CLASS = 0 and there are 217 instances of \"high quality\" wine where CLASS = 1. This means that the data is class unbalanced."
   ]
  },
  {
   "cell_type": "markdown",
   "metadata": {},
   "source": [
    "## Question 1.3 [ _ /3 marks]\n",
    "\n",
    "Let's create our train and test sets. Create an input dataframe X (the input features); next, create an output series y which contains the output class labels (a column of `0`'s and `1`'s). Split the data into train and test sets with `train_test_split`. Use `test_size = 0.3`, `random_state = 0`."
   ]
  },
  {
   "cell_type": "code",
   "execution_count": 4,
   "metadata": {},
   "outputs": [],
   "source": [
    "# Store the feature data into X; store the class data into y [ /2 marks]\n",
    "# ****** your code here ******\n",
    "X = df.drop(\"CLASS\", axis=1)\n",
    "y = df.CLASS\n",
    "\n",
    "# Do a train-test split. Use 30% of the data for testing. Use random state 0. [ /1 mark]\n",
    "Xtrain, Xtest, ytrain, ytest = train_test_split(X,y,test_size=0.3,random_state=0)\n"
   ]
  },
  {
   "cell_type": "markdown",
   "metadata": {},
   "source": [
    "## Question 2.1 [ _ /13 marks]\n",
    "\n",
    "For our first model we will **select a standalone decision tree of optimal maximum depth** (out of possible maximum depths ranging from `2 to 30`). \n",
    "\n",
    "To find the optimal maximum depth, create multiple decision trees with sklearn's `DecisionTreeClassifier` class (you can use a loop), then compute the mean Cross-Validation score for each (use 5-fold CV). You don't need to specify a scorer (Note: for `DecisionTreeClassifier` it's *mean accuracy*).\n",
    "\n",
    "Create a plot which shows the mean CV scores on the y-axis and maximum depths on the x-axis. **Report the optimal maximum depth**. [ /2 marks]"
   ]
  },
  {
   "cell_type": "code",
   "execution_count": 5,
   "metadata": {},
   "outputs": [
    {
     "data": {
      "text/plain": [
       "Text(0, 0.5, 'CV Scores')"
      ]
     },
     "execution_count": 5,
     "metadata": {},
     "output_type": "execute_result"
    },
    {
     "data": {
      "image/png": "[encoded data removed]",
      "text/plain": [
       "<Figure size 432x288 with 1 Axes>"
      ]
     },
     "metadata": {
      "needs_background": "light"
     },
     "output_type": "display_data"
    }
   ],
   "source": [
    "# Create and fit trees from max_depth 2 to max_depth 30. Use 5-fold CV for each. [ /8 marks]\n",
    "list_scores = []\n",
    "list_depths = []\n",
    "for i in range(2,30):\n",
    "    tree = DecisionTreeClassifier(max_depth=i)\n",
    "    scores = cross_val_score(tree, Xtrain, ytrain, cv=5).mean()\n",
    "    list_depths.append(i)\n",
    "    list_scores.append(scores)\n",
    " \n",
    "# Plot the mean CV score vs. maximum depth [ /3 marks]\n",
    "# ****** your code here ******\n",
    "plt.scatter(list_depths, list_scores)\n",
    "plt.title(\"CV Score vs Maximum Depth\")\n",
    "plt.xlabel(\"Maximum Depths\")\n",
    "plt.ylabel(\"CV Scores\")\n",
    "\n",
    "# Report the optimal max_depth either here or in the markdown cell below. [ /2 marks]"
   ]
  },
  {
   "cell_type": "markdown",
   "metadata": {},
   "source": [
    "**Your answer**: The optimal maximum depth is the highest possible cv score in our case depth 4 with a cv score of approximately 0.87490."
   ]
  },
  {
   "cell_type": "markdown",
   "metadata": {},
   "source": [
    "## Question 2.2 [ _ /6 marks]\n",
    "\n",
    "Consider your optimal max_depth tree (or, you can create a new one with that depth). Fit it to the training set. Report its test accuracy on the test set.\n",
    "\n",
    "Hint: You can use `accuracy_score()` here to report the test accuracy."
   ]
  },
  {
   "cell_type": "code",
   "execution_count": 39,
   "metadata": {},
   "outputs": [
    {
     "name": "stdout",
     "output_type": "stream",
     "text": [
      "Accuracy Score = 0.8958333333333334\n"
     ]
    }
   ],
   "source": [
    "# Fit your optimal-depth tree, then calculate test accuracy [ /6 marks]\n",
    "new_tree = DecisionTreeClassifier(max_depth=4)\n",
    "new_tree.fit(Xtrain, ytrain)\n",
    "ypred = new_tree.predict(Xtest)\n",
    "\n",
    "print(f\"Accuracy Score = {accuracy_score(ytest, ypred)}\")"
   ]
  },
  {
   "cell_type": "markdown",
   "metadata": {},
   "source": [
    "## Question 2.3 [ _ /4 marks] \n",
    "\n",
    "What is the **major shortcoming** of standalone decision trees? [ /2 marks] What is the **purpose of creating an ensemble of trees**? [ /2 marks]"
   ]
  },
  {
   "cell_type": "markdown",
   "metadata": {},
   "source": [
    "**Your answer**: The major shortcoming of standalone decision trees is that they have high variance due to overfitting. The purpose of creating an ensemble of trees is that they provide a solution on how to reduce the high variance of standalone decision trees. Normally, several decision trees are combined to produce better predictive performance than just 1 decision tree, the main principle is that a group of weak trees/predictions can be combined to produce a strong prediction. "
   ]
  },
  {
   "cell_type": "markdown",
   "metadata": {},
   "source": [
    "## Question 3.1 [ _ /24 marks]\n",
    "\n",
    "Let's now focus on creating an **ensemble of 500 trees**. For this question we'll consider Bagging (Bootstrap Aggregation). Follow these steps:\n",
    "* **Step 1**: Create 500 Bootstrap samples (i.e. sample with replacement) from the dataset (specifically, sample from the training data).\n",
    "* **Step 2**: Train a particular tree (`max_depth=4`) on each Bootstrap sample (you'll therefore need 500 trees in total)\n",
    "* **Step 3**: Compute the **overall prediction** of your ensemble on the unseen test set. The overall prediction from each individual test input will come from a vote count from each of the 500 trees. **Report the test accuracy**.\n",
    "\n",
    "To expand on the `voting` point from Step 3: For each test input, each tree will make a certain output prediction. So, for a single test input you'll have 500 votes, and these could be 1 or 0. For the overall prediction for that single test input, you'll count which class (0 or 1) got the most votes.\n",
    "\n",
    "Note: Since this question is meant to be a manually done, you won't get the marks if you use sklearn's `BaggingClassifier` or similar."
   ]
  },
  {
   "cell_type": "code",
   "execution_count": 74,
   "metadata": {},
   "outputs": [
    {
     "name": "stdout",
     "output_type": "stream",
     "text": [
      "Accuracy Score = 0.9083333333333333\n"
     ]
    }
   ],
   "source": [
    "# Create 500 Bootstrap samples from the training set. Fit a tree to each [ /12 marks]\n",
    "df2 = Xtrain.join(ytrain) #join Xtrain with ytrain data to new dataframe\n",
    "\n",
    "def bootstrap(S):\n",
    "    nsim = 500\n",
    "    tree_list = []\n",
    "    \n",
    "    for i in range(nsim):\n",
    "        bootstrap_samples = S.sample(nsim, replace=True)\n",
    "        model = DecisionTreeClassifier(max_depth=4)\n",
    "        model.fit(bootstrap_samples.drop(columns=\"CLASS\"),bootstrap_samples[\"CLASS\"])\n",
    "        tree_list.append(model)\n",
    "    return tree_list\n",
    "\n",
    "# Make 500 predictions on the test data (unseen by your trees so far). [ /6 marks] \n",
    "ypr = []\n",
    "samples = bootstrap(df2)\n",
    "for j in range(0, len(samples)):\n",
    "    ypr.append(samples[j].predict(Xtest))\n",
    "\n",
    "# Finally, compute the overall vote for each prediction (the most votes for a given class wins) [ /4 marks]\n",
    "# Hint: If there's a tie, the common way is to predict the class with the lowest class label\n",
    "# However, it's also ok to use scipy.stats.mode here (this randomly picks tie winners)\n",
    "votes = []\n",
    "    \n",
    "for l in range(0, len(ypr[0])):\n",
    "    ones_pred = 0\n",
    "    zero_pred = 0\n",
    "    for m in range(0, len(ypr)):\n",
    "        if ypr[m][l]:\n",
    "            ones_pred += 1\n",
    "        else:\n",
    "            zero_pred += 1\n",
    "    \n",
    "    if ones_pred > zero_pred:\n",
    "        votes.append(1)\n",
    "    else:\n",
    "        votes.append(0)\n",
    "\n",
    "# Report (print) the accuracy of your ensemble model on the test set. Use accuracy_score() [ /2 marks]\n",
    "print(f\"Accuracy Score = {accuracy_score(ytest, votes)}\")"
   ]
  },
  {
   "cell_type": "markdown",
   "metadata": {},
   "source": [
    "## Question 3.2 [ _ /6 marks]\n",
    "\n",
    "Finally, let's consider AdaBoost. Here, each tree (a stump) is trained sequentially and relies on the previous tree for its training data (which was re-sampled, and this was influenced by the sample weight changes as a result of incorrect predictions from the previous tree). \n",
    "\n",
    "Create an `AdaBoostClassifier` object with `base_estimator = DecisionTreeClassifier(max_depth=4)`, `n_estimators=500`, `learning_rate=0.1`. Fit to the training data, and compute (and report) the test accuracy. You can use `accuracy_score()` here.\n"
   ]
  },
  {
   "cell_type": "code",
   "execution_count": 72,
   "metadata": {},
   "outputs": [
    {
     "name": "stdout",
     "output_type": "stream",
     "text": [
      "Accuracy Score = 0.9166666666666666\n"
     ]
    }
   ],
   "source": [
    "# Create an AdaBoostClassifier object with the specified arguments [ /2 marks]\n",
    "ada = AdaBoostClassifier(base_estimator = DecisionTreeClassifier(max_depth=4), n_estimators=500, learning_rate=0.1)\n",
    "\n",
    "# Fit to the training data and compute the test predictions [ /2 marks]\n",
    "ada.fit(Xtrain, ytrain)\n",
    "ypred3 = ada.predict(Xtest)\n",
    "\n",
    "# Compute and report the test accuracy [ /2 marks]\n",
    "print(f\"Accuracy Score = {accuracy_score(ytest, ypred3)}\")"
   ]
  },
  {
   "cell_type": "markdown",
   "metadata": {},
   "source": [
    "## Question 3.3 [ _ /4 marks]\n",
    "\n",
    "Finally, compare the test accuracies of the models considered so far: the optimal max_depth Decision Tree, the bagged ensemble of 500 trees, and the AdaBoost ensemble of 500 trees. Which performed worst? Which performed best? Do the results agree with our intuition from the Lecture?\n",
    "\n",
    "Hint: One intuition you could use from the lecture was that ensemble methods have **lower variance** than a single tree (i.e. less prone to overfitting)."
   ]
  },
  {
   "cell_type": "markdown",
   "metadata": {},
   "source": [
    "**Your answer**:The standalone Decision Tree Classifier had the lowest accuracy score of around 0.89 therefore it performed the worst while both of the ensemble methods had higher accuracy scores of approximately 0.90 and 0.91.The ada classifier performed the best with approximately 0.9166 accuracy. This fits with our intuition because we know that standalone decision trees have high variance or are prone to overfitting. This means that the model is overfitting to the training data and thus is fair to assume the model will perform worse when given the test dataset compared to a model that is more flexible to the variation or noise in the data. When overfitting we typically fit to the noise or variations within the data which is not uniform data, therefore the model will generally perform worse. This is evident in our calculations of accuracy score, a standalone Decision Tree Classifier had the lowest accuracy score which correlates with overfitting and high variance. Adaboost as well as bootstrap had a higher accuracy score which shows us that these models are less prone to overfitting demostrating their lower variance compared to standalone decision trees since they are more flexible to noise/variations within the dataset."
   ]
  }
 ],
 "metadata": {
  "kernelspec": {
   "display_name": "Python 3",
   "language": "python",
   "name": "python3"
  },
  "language_info": {
   "codemirror_mode": {
    "name": "ipython",
    "version": 3
   },
   "file_extension": ".py",
   "mimetype": "text/x-python",
   "name": "python",
   "nbconvert_exporter": "python",
   "pygments_lexer": "ipython3",
   "version": "3.8.8"
  }
 },
 "nbformat": 4,
 "nbformat_minor": 4
}
