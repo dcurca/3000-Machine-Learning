{
 "cells": [
  {
   "cell_type": "markdown",
   "metadata": {},
   "source": [
    "# Assignment 2: Maximum Likelihood [ __ / 70 marks]\n",
    "\n",
    "\n",
    "<img src=\"https://www.statisticshowto.com/wp-content/uploads/2015/09/Laplace-distribution.png\" height=200 width=450>"
   ]
  },
  {
   "cell_type": "markdown",
   "metadata": {},
   "source": [
    "The Laplace distribution is a continuous probability distribution defined as the following:\n",
    "\n",
    "$$ f(y; \\mu, \\lambda) = \\frac{1}{2\\lambda}\\exp\\Bigg(-\\frac{\\lvert y-\\mu \\rvert}{\\lambda}\\Bigg)$$\n",
    "\n",
    "In this assignment we will use Maximum Likelihood Estimation to fit a Laplace distribution to a dataset, assuming an exponential model ($\\hat{y}=\\exp(\\mathbf{Xb}$)) rather than our previous linear model ($\\hat{y}=\\mathbf{Xb}$). Here again we will find optimal values for $\\mathbf{b}$. However, unlike our previous work, instead of finding a parameter $\\mathbf{b}$ which minimizes a loss function, we will find a $\\mathbf{b}$ *which maximizes the Laplace Log Likelihood*. Feel free to refer to `L2_codeF2.ipynb`.\n",
    "\n",
    "### Before you submit...\n",
    "* For good measure, restart your kernel by clicking 'Kernel' > 'Restart & Run All'."
   ]
  },
  {
   "cell_type": "code",
   "execution_count": 36,
   "metadata": {},
   "outputs": [],
   "source": [
    "import numpy as np\n",
    "import matplotlib.pyplot as plt\n",
    "import pandas as pd\n",
    "import scipy.optimize as so\n",
    "from sklearn import linear_model\n",
    "from IPython.display import display"
   ]
  },
  {
   "cell_type": "markdown",
   "metadata": {},
   "source": [
    "### Question 1 [ _ / 7 Marks]\n",
    "For a Laplace distribution we can write the negative log likelihood as the following:\n",
    "\n",
    "$$\\ell(y_1,y_2,...,y_n; \\mu, \\lambda)=-\\sum_{i=1}^{n}-\\log(2\\lambda)-\\frac{\\lvert y_i-\\mu \\rvert}{\\lambda}$$\n",
    "\n",
    "Write a function called `laplaceNegLogLikelihood` which takes a vector $\\mathbf{y}$ and parameters $\\mu$ and $\\lambda$ and returns the negative log likelihood. Test your function by calling it with `mu = 0`, `lam = 1` and `y=np.array([2,1,0,0])`."
   ]
  },
  {
   "cell_type": "code",
   "execution_count": 3,
   "metadata": {},
   "outputs": [
    {
     "data": {
      "text/plain": [
       "5.772588722239782"
      ]
     },
     "metadata": {},
     "output_type": "display_data"
    }
   ],
   "source": [
    "def laplaceNegLogLikelihood(mu,lam,y):\n",
    "    # Compute and return nll (negative log likelihood) [ /5 marks]\n",
    "    nll = -np.sum(-np.log(2*lam) - abs(y - mu) / lam)\n",
    "    return nll\n",
    "\n",
    "#Test your function with these values [ /2 marks]\n",
    "mu=0\n",
    "lam=1\n",
    "y=np.array([2,1,0,0])\n",
    "\n",
    "display(laplaceNegLogLikelihood(mu,lam,y))"
   ]
  },
  {
   "cell_type": "markdown",
   "metadata": {},
   "source": [
    "### Question 2 [ _ / 6 Marks]\n",
    "\n",
    "Write a function called `laplaceRegNegLogLikelihood` that takes as arguments a vector $\\mathbf{y}$, a matrix $\\mathbf{X}$ of features, and a vector $\\mathbf{b}$ of parameters. The function should return the negative log likelihood, assuming that each element of  $\\mathbf{y}$ is independent and identically distributed (i.e. Coming from a Laplace distribution) with parameter $\\mu = \\exp(\\mathbf{X}\\mathbf{b})$. In your return statement, let `lam=1`. Test your function by calling it with `b=np.array([1,2])`, `X=np.array([[1,1,1],[0,2,1]]).T`, `y=np.array([0,2,10])`\n"
   ]
  },
  {
   "cell_type": "code",
   "execution_count": 18,
   "metadata": {},
   "outputs": [
    {
     "data": {
      "text/plain": [
       "161.29641939590317"
      ]
     },
     "metadata": {},
     "output_type": "display_data"
    }
   ],
   "source": [
    "def laplaceRegNegLogLikelihood(b, X, y):\n",
    "    # Compute mu [ /2 marks]\n",
    "    mu = np.exp(X@b)\n",
    "    # Compute negative log likelihood (let lam = 1) [ /2 marks]\n",
    "    nll = -np.sum(-np.log(2*lam) - abs(y - mu) / lam)\n",
    "    return nll\n",
    "\n",
    "#Test your function with these values [ /2 marks]\n",
    "b=np.array([1,2])\n",
    "X=np.array([[1,1,1],[0,2,1]]).T\n",
    "y=np.array([0,2,10])\n",
    "lam=1\n",
    "\n",
    "display(laplaceRegNegLogLikelihood(b,X,y))"
   ]
  },
  {
   "cell_type": "markdown",
   "metadata": {},
   "source": [
    "### Question 3 [ _ / 4 Marks]\n",
    "\n",
    "Write a function called `modelPredict` which accepts as its first argument $\\mathbf{b}$ (exponential model parameters) and a matrix $\\mathbf{X}$ (for the exponential model, a column of ones and column of $x_i$ inputs).  The function should return predictions of the form $\\widehat{\\mathbf{y}} = \\exp(\\mathbf{X}\\mathbf{b})$. Test your function by calling it with `b=np.array([1,2])`, `X=np.array([[1,1,1],[0,2,1]]).T`."
   ]
  },
  {
   "cell_type": "code",
   "execution_count": 23,
   "metadata": {},
   "outputs": [
    {
     "data": {
      "text/plain": [
       "array([  2.71828183, 148.4131591 ,  20.08553692])"
      ]
     },
     "metadata": {},
     "output_type": "display_data"
    }
   ],
   "source": [
    "def modelPredict(b,X):\n",
    "    #Compute yhat [ /2 marks]\n",
    "    yhat = np.exp(X@b)\n",
    "    return yhat\n",
    "\n",
    "#Test your function with these values [ /2 marks]\n",
    "b=np.array([1,2])\n",
    "X=np.array([[1,1,1],[0,2,1]]).T\n",
    "\n",
    "display(modelPredict(b,X))"
   ]
  },
  {
   "cell_type": "markdown",
   "metadata": {},
   "source": [
    "### Question 4 [ _ / 6 Marks]\n",
    "\n",
    "Write a function called `modelFit` which accepts matrix $\\mathbf{X}$ and outcomes vector $\\mathbf{y}$ as arguments. The function should return a prediction for $\\mathbf{b}$ which maximizes the Laplace Log Likelihood. Test your function with `X=np.array([[1,1,1],[0,2,1]]).T`, `y=np.array([0,2,10])`. Which values do you get for $\\mathbf{b}$? Print these values."
   ]
  },
  {
   "cell_type": "code",
   "execution_count": 24,
   "metadata": {},
   "outputs": [
    {
     "data": {
      "text/plain": [
       "array([6.93146718e-01, 2.31285967e-07])"
      ]
     },
     "metadata": {},
     "output_type": "display_data"
    }
   ],
   "source": [
    "def modelFit(X,y):\n",
    "    b_init = np.zeros(X.shape[1])\n",
    "    # Start from b_init. Use so.minimize to get a prediction for b which maximizes Laplace Log Likelihood [ /4 marks]  \n",
    "    RES = so.minimize(laplaceRegNegLogLikelihood, b_init, args=(X,y), method=\"Powell\", tol=1e-8)\n",
    "    return RES.x\n",
    "\n",
    "#Test your function with these values [ /2 marks]\n",
    "X = np.array([[1,1,1],[0,2,1]]).T\n",
    "y = np.array([0,2,10])\n",
    "\n",
    "display(modelFit(X,y))"
   ]
  },
  {
   "cell_type": "markdown",
   "metadata": {},
   "source": [
    "### Question 5 [ _ / 6 Marks]\n",
    "\n",
    "Load in the data from `A2.csv`. This is a toy dataset which is meant to illustrate geyser eruption times vs. waiting times (until a particular eruption event). \"x\" in this dataset is $\\frac{1}{\\text{eruption length}}$ ($\\text{minutes}^{-1}$) for a particular eruption. \"y\" in this dataset describes the waiting time until said eruption (minutes). Plot a scatterplot of the data. Include axis labels. "
   ]
  },
  {
   "cell_type": "code",
   "execution_count": 27,
   "metadata": {},
   "outputs": [
    {
     "data": {
      "text/html": [
       "<div>\n",
       "<style scoped>\n",
       "    .dataframe tbody tr th:only-of-type {\n",
       "        vertical-align: middle;\n",
       "    }\n",
       "\n",
       "    .dataframe tbody tr th {\n",
       "        vertical-align: top;\n",
       "    }\n",
       "\n",
       "    .dataframe thead th {\n",
       "        text-align: right;\n",
       "    }\n",
       "</style>\n",
       "<table border=\"1\" class=\"dataframe\">\n",
       "  <thead>\n",
       "    <tr style=\"text-align: right;\">\n",
       "      <th></th>\n",
       "      <th>x</th>\n",
       "      <th>y</th>\n",
       "    </tr>\n",
       "  </thead>\n",
       "  <tbody>\n",
       "    <tr>\n",
       "      <th>0</th>\n",
       "      <td>3.738644</td>\n",
       "      <td>0.998547</td>\n",
       "    </tr>\n",
       "    <tr>\n",
       "      <th>1</th>\n",
       "      <td>3.731258</td>\n",
       "      <td>-0.000583</td>\n",
       "    </tr>\n",
       "    <tr>\n",
       "      <th>2</th>\n",
       "      <td>4.173630</td>\n",
       "      <td>0.000343</td>\n",
       "    </tr>\n",
       "    <tr>\n",
       "      <th>3</th>\n",
       "      <td>4.000001</td>\n",
       "      <td>-0.000265</td>\n",
       "    </tr>\n",
       "    <tr>\n",
       "      <th>4</th>\n",
       "      <td>3.667144</td>\n",
       "      <td>-0.000740</td>\n",
       "    </tr>\n",
       "    <tr>\n",
       "      <th>...</th>\n",
       "      <td>...</td>\n",
       "      <td>...</td>\n",
       "    </tr>\n",
       "    <tr>\n",
       "      <th>995</th>\n",
       "      <td>2.939044</td>\n",
       "      <td>1.000650</td>\n",
       "    </tr>\n",
       "    <tr>\n",
       "      <th>996</th>\n",
       "      <td>2.047948</td>\n",
       "      <td>8.001784</td>\n",
       "    </tr>\n",
       "    <tr>\n",
       "      <th>997</th>\n",
       "      <td>2.434406</td>\n",
       "      <td>2.999489</td>\n",
       "    </tr>\n",
       "    <tr>\n",
       "      <th>998</th>\n",
       "      <td>3.315642</td>\n",
       "      <td>2.998974</td>\n",
       "    </tr>\n",
       "    <tr>\n",
       "      <th>999</th>\n",
       "      <td>3.316767</td>\n",
       "      <td>0.998718</td>\n",
       "    </tr>\n",
       "  </tbody>\n",
       "</table>\n",
       "<p>1000 rows × 2 columns</p>\n",
       "</div>"
      ],
      "text/plain": [
       "            x         y\n",
       "0    3.738644  0.998547\n",
       "1    3.731258 -0.000583\n",
       "2    4.173630  0.000343\n",
       "3    4.000001 -0.000265\n",
       "4    3.667144 -0.000740\n",
       "..        ...       ...\n",
       "995  2.939044  1.000650\n",
       "996  2.047948  8.001784\n",
       "997  2.434406  2.999489\n",
       "998  3.315642  2.998974\n",
       "999  3.316767  0.998718\n",
       "\n",
       "[1000 rows x 2 columns]"
      ]
     },
     "metadata": {},
     "output_type": "display_data"
    },
    {
     "data": {
      "text/plain": [
       "Text(0.5, 1.0, 'Dispersion of Geyser Eruptions')"
      ]
     },
     "execution_count": 27,
     "metadata": {},
     "output_type": "execute_result"
    },
    {
     "data": {
      "image/png": "[encoded data removed]",
      "text/plain": [
       "<Figure size 432x288 with 1 Axes>"
      ]
     },
     "metadata": {
      "needs_background": "light"
     },
     "output_type": "display_data"
    }
   ],
   "source": [
    "# Load in the data [ /2 marks]\n",
    "df = pd.read_csv('A2.csv')\n",
    "display(df)\n",
    "\n",
    "# Plot a scatterplot with labels [ /4 marks]\n",
    "plt.scatter(df['x'], df['y'])\n",
    "plt.xlabel(\"Geyser Eruption Times (min)\")\n",
    "plt.ylabel(\"Waiting Times Until Eruption Event (min)\")\n",
    "plt.title(\"Dispersion of Geyser Eruptions\")"
   ]
  },
  {
   "cell_type": "markdown",
   "metadata": {},
   "source": [
    "### Question 6 [ _ / 19 Marks]\n",
    "\n",
    "Fit a Laplace regression to this data using the functions you wrote above. To recap: here you will find parameters $\\mathbf{b}$ (from $\\mu = \\exp(\\mathbf{Xb}))$ which maximize the Laplace Log Likelihood for our A2 data. Plot the model predictions (`y_pred`) over a set of new x-values $x_{new} \\in [0,6]$ (you can use np.linspace for this) in addition to a scatterplot of the data (i.e. plot points + fit).  "
   ]
  },
  {
   "cell_type": "code",
   "execution_count": 28,
   "metadata": {},
   "outputs": [
    {
     "name": "stdout",
     "output_type": "stream",
     "text": [
      "[ 4.78954292 -1.52780528]\n"
     ]
    },
    {
     "data": {
      "text/plain": [
       "[<matplotlib.lines.Line2D at 0x213b0601340>]"
      ]
     },
     "execution_count": 28,
     "metadata": {},
     "output_type": "execute_result"
    },
    {
     "data": {
      "image/png": "[encoded data removed]",
      "text/plain": [
       "<Figure size 432x288 with 1 Axes>"
      ]
     },
     "metadata": {
      "needs_background": "light"
     },
     "output_type": "display_data"
    }
   ],
   "source": [
    "#First, construct the matrix X (with a column of ones and a column of x values) [ /4 marks]\n",
    "x = df.loc[:,\"x\"].values\n",
    "X = np.c_[np.ones(x.size), x]\n",
    "\n",
    "#Next, find b by calling modelFit. modelFit should optimize the laplaceRegressionNegLogLikelihood [ /4 marks]\n",
    "y = df.loc[:,\"y\"].values\n",
    "b = modelFit(X,y)\n",
    "print(b)\n",
    "\n",
    "# For our prediction we need to create new x data (use linspace) and put it in matrix X [ /4 marks]\n",
    "x_new = np.linspace(0,6,10)\n",
    "X_new = np.c_[np.ones(x_new.size), x_new]\n",
    "\n",
    "# Use modelPredict to get y_pred [ /2 marks]\n",
    "y_pred = modelPredict(b, X_new)\n",
    "\n",
    "#Plot the data points and predictions on the same plot; color the predictions red [ /5 marks] \n",
    "plt.scatter(x, y)\n",
    "plt.xlabel(\"Geyser Eruption Times (min)\")\n",
    "plt.ylabel(\"Waiting Times Until Eruption Event (min)\")\n",
    "plt.title(\"Dispersion of Geyser Eruptions\")\n",
    "\n",
    "plt.plot(X_new[:,1], y_pred, color='red')\n",
    "\n",
    "\n"
   ]
  },
  {
   "cell_type": "markdown",
   "metadata": {},
   "source": [
    "### Question 7 [ _ / 22 marks] \n",
    "\n",
    "Finally, apply linear regression (L2, also called \"OLS\") to the data, obtain parameter estimates and plot the predictions over the same range as in Question 6 (i.e. $x \\in [0,6]$). Do you see a problem with the linear regression? Explain why this might be a problem in a sentence or two."
   ]
  },
  {
   "cell_type": "code",
   "execution_count": 45,
   "metadata": {},
   "outputs": [
    {
     "data": {
      "text/plain": [
       "[<matplotlib.lines.Line2D at 0x213b06783d0>]"
      ]
     },
     "execution_count": 45,
     "metadata": {},
     "output_type": "execute_result"
    },
    {
     "data": {
      "image/png": "[encoded data removed]",
      "text/plain": [
       "<Figure size 432x288 with 1 Axes>"
      ]
     },
     "metadata": {
      "needs_background": "light"
     },
     "output_type": "display_data"
    }
   ],
   "source": [
    "#First, construct the matrix X (with a column of ones and a column of x values) [ /4 marks]\n",
    "x = df.loc[:,\"x\"].values\n",
    "X = np.c_[np.ones(x.size), x]\n",
    "\n",
    "# Get y values, then use sklearn's linear_model.LinearRegression().fit() to create an L2 fit (using X and y) [ /4 marks]\n",
    "y = df.loc[:,\"y\"].values\n",
    "L2_fit = linear_model.LinearRegression().fit(X, y)\n",
    "\n",
    "# For our prediction we need to create new x data (use linspace) and put this in matrix X_new [ /4 marks]\n",
    "x_new = np.linspace(0,6,10)\n",
    "X_new = np.c_[np.ones(x_new.size), x_new]\n",
    "\n",
    "# Use sklearn's \"predict\" method to get your prediction, given an input matrix X_new y_pred_L2 [ /2 marks]\n",
    "y_pred_L2 = L2_fit.predict(X_new)\n",
    "\n",
    "# Plot the data and linear regression on the same figure. Label axes [ /5 marks]\n",
    "plt.scatter(x, y)\n",
    "plt.xlabel(\"Geyser Eruption Times (min)\")\n",
    "plt.ylabel(\"Waiting Times Until Eruption Event (min)\")\n",
    "plt.title(\"Dispersion of Geyser Eruptions\")\n",
    "\n",
    "plt.plot(X_new[:,1], y_pred_L2, color='red')\n"
   ]
  },
  {
   "cell_type": "markdown",
   "metadata": {},
   "source": [
    "Why is it a problem? [_ /3 marks] Linear Regression is limited to linear relationships. The relationship in this graph between Eruption times and waiting times is curved, with that said the prediction of the linear regression line does not take into account a curved relationship and it assumes there is a straight line relationship. Linear Regression is also sensitive to outliers, this is clear in the scatterplot where x = 0-1 and x = 6-7 the fit of the line is skewed by the outliers and the linear regression does not represent the correct curvature of data like laplace regression."
   ]
  }
 ],
 "metadata": {
  "kernelspec": {
   "display_name": "Python 3",
   "language": "python",
   "name": "python3"
  },
  "language_info": {
   "codemirror_mode": {
    "name": "ipython",
    "version": 3
   },
   "file_extension": ".py",
   "mimetype": "text/x-python",
   "name": "python",
   "nbconvert_exporter": "python",
   "pygments_lexer": "ipython3",
   "version": "3.8.8"
  }
 },
 "nbformat": 4,
 "nbformat_minor": 4
}
