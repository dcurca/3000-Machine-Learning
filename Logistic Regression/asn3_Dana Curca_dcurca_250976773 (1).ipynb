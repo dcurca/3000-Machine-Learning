{
 "cells": [
  {
   "cell_type": "markdown",
   "metadata": {},
   "source": [
    "# Assignment 3: Classification with Logistic Regression  [ __ /130  marks]\n",
    "\n",
    "<hr>\n",
    "<!-- <img src=https://www.tibco.com/sites/tibco/files/media_entity/2020-09/logistic-regression-diagram.svg width=600> -->\n",
    "<img src=https://miro.medium.com/max/1838/1*wWRGcsBwoXw-WNJi5UpoOw.png width=600>\n",
    "<hr>\n",
    "\n",
    "In this assignment we will consider the `diabetes` dataset from kaggle: https://www.kaggle.com/kandij/diabetes-dataset\n",
    "\n",
    "We will use logistic regression to classify subjects based on the input features; we will also evaluate our model with/without regularization."
   ]
  },
  {
   "cell_type": "markdown",
   "metadata": {},
   "source": [
    "## Before you start...\n",
    "* check out the relevant lecture code (L3_codeF.ipynb) for reference"
   ]
  },
  {
   "cell_type": "markdown",
   "metadata": {},
   "source": [
    "## Before you submit...\n",
    "* restart the kernel, then re-run the whole notebook to ensure no errors"
   ]
  },
  {
   "cell_type": "code",
   "execution_count": 1,
   "metadata": {},
   "outputs": [],
   "source": [
    "import pandas as pd\n",
    "import seaborn as sns\n",
    "import numpy as np\n",
    "from sklearn.model_selection import train_test_split\n",
    "from sklearn.linear_model import LogisticRegression\n",
    "from sklearn.metrics import confusion_matrix, roc_curve, precision_recall_curve, auc\n",
    "\n",
    "import matplotlib.pyplot as plt\n",
    "%matplotlib inline"
   ]
  },
  {
   "cell_type": "markdown",
   "metadata": {},
   "source": [
    "## Question 1.1 [ _ /4 marks]\n",
    "\n",
    "Read the file `diabetes.csv` into a pandas DataFrame. Display the first 5 rows of the DataFrame. "
   ]
  },
  {
   "cell_type": "code",
   "execution_count": 2,
   "metadata": {
    "scrolled": true
   },
   "outputs": [
    {
     "data": {
      "text/html": [
       "<div>\n",
       "<style scoped>\n",
       "    .dataframe tbody tr th:only-of-type {\n",
       "        vertical-align: middle;\n",
       "    }\n",
       "\n",
       "    .dataframe tbody tr th {\n",
       "        vertical-align: top;\n",
       "    }\n",
       "\n",
       "    .dataframe thead th {\n",
       "        text-align: right;\n",
       "    }\n",
       "</style>\n",
       "<table border=\"1\" class=\"dataframe\">\n",
       "  <thead>\n",
       "    <tr style=\"text-align: right;\">\n",
       "      <th></th>\n",
       "      <th>Pregnancies</th>\n",
       "      <th>Glucose</th>\n",
       "      <th>BloodPressure</th>\n",
       "      <th>SkinThickness</th>\n",
       "      <th>Insulin</th>\n",
       "      <th>BMI</th>\n",
       "      <th>DiabetesPedigreeFunction</th>\n",
       "      <th>Age</th>\n",
       "      <th>Outcome</th>\n",
       "    </tr>\n",
       "  </thead>\n",
       "  <tbody>\n",
       "    <tr>\n",
       "      <th>0</th>\n",
       "      <td>6</td>\n",
       "      <td>148</td>\n",
       "      <td>72</td>\n",
       "      <td>35</td>\n",
       "      <td>0</td>\n",
       "      <td>33.6</td>\n",
       "      <td>0.627</td>\n",
       "      <td>50</td>\n",
       "      <td>1</td>\n",
       "    </tr>\n",
       "    <tr>\n",
       "      <th>1</th>\n",
       "      <td>1</td>\n",
       "      <td>85</td>\n",
       "      <td>66</td>\n",
       "      <td>29</td>\n",
       "      <td>0</td>\n",
       "      <td>26.6</td>\n",
       "      <td>0.351</td>\n",
       "      <td>31</td>\n",
       "      <td>0</td>\n",
       "    </tr>\n",
       "    <tr>\n",
       "      <th>2</th>\n",
       "      <td>8</td>\n",
       "      <td>183</td>\n",
       "      <td>64</td>\n",
       "      <td>0</td>\n",
       "      <td>0</td>\n",
       "      <td>23.3</td>\n",
       "      <td>0.672</td>\n",
       "      <td>32</td>\n",
       "      <td>1</td>\n",
       "    </tr>\n",
       "    <tr>\n",
       "      <th>3</th>\n",
       "      <td>1</td>\n",
       "      <td>89</td>\n",
       "      <td>66</td>\n",
       "      <td>23</td>\n",
       "      <td>94</td>\n",
       "      <td>28.1</td>\n",
       "      <td>0.167</td>\n",
       "      <td>21</td>\n",
       "      <td>0</td>\n",
       "    </tr>\n",
       "    <tr>\n",
       "      <th>4</th>\n",
       "      <td>0</td>\n",
       "      <td>137</td>\n",
       "      <td>40</td>\n",
       "      <td>35</td>\n",
       "      <td>168</td>\n",
       "      <td>43.1</td>\n",
       "      <td>2.288</td>\n",
       "      <td>33</td>\n",
       "      <td>1</td>\n",
       "    </tr>\n",
       "  </tbody>\n",
       "</table>\n",
       "</div>"
      ],
      "text/plain": [
       "   Pregnancies  Glucose  BloodPressure  SkinThickness  Insulin   BMI  \\\n",
       "0            6      148             72             35        0  33.6   \n",
       "1            1       85             66             29        0  26.6   \n",
       "2            8      183             64              0        0  23.3   \n",
       "3            1       89             66             23       94  28.1   \n",
       "4            0      137             40             35      168  43.1   \n",
       "\n",
       "   DiabetesPedigreeFunction  Age  Outcome  \n",
       "0                     0.627   50        1  \n",
       "1                     0.351   31        0  \n",
       "2                     0.672   32        1  \n",
       "3                     0.167   21        0  \n",
       "4                     2.288   33        1  "
      ]
     },
     "execution_count": 2,
     "metadata": {},
     "output_type": "execute_result"
    }
   ],
   "source": [
    "# ****** your code here ******\n",
    "diabetes = pd.read_csv(\"diabetes.csv\")\n",
    "diabetes.head()"
   ]
  },
  {
   "cell_type": "markdown",
   "metadata": {},
   "source": [
    "## Question 1.2 [ _ /10 marks]\n",
    "\n",
    "Please answer the following short-answer questions `(a-d)`. Your answer can be brief (a few words or a sentence)."
   ]
  },
  {
   "cell_type": "markdown",
   "metadata": {},
   "source": [
    "**(a) How many input features does this dataset have?**  "
   ]
  },
  {
   "cell_type": "markdown",
   "metadata": {},
   "source": [
    "Your answer:There are 8 input features: (Pregnancies, Glucose, BloodPressure, SkinThickness, Insulin, BMI, DiabetesPedigreeFunction, and Age)."
   ]
  },
  {
   "cell_type": "markdown",
   "metadata": {},
   "source": [
    "**(b) What is the dependent variable?** "
   ]
  },
  {
   "cell_type": "markdown",
   "metadata": {},
   "source": [
    "Your answer: The dependent variable is \"Outcome\"."
   ]
  },
  {
   "cell_type": "markdown",
   "metadata": {},
   "source": [
    "**(c) How many classes are there?**"
   ]
  },
  {
   "cell_type": "markdown",
   "metadata": {},
   "source": [
    "Your answer: There are 2 classes, 0 and 1."
   ]
  },
  {
   "cell_type": "markdown",
   "metadata": {},
   "source": [
    "**(d) Is the dataset class-balanced? Check with some code.**"
   ]
  },
  {
   "cell_type": "code",
   "execution_count": 3,
   "metadata": {},
   "outputs": [
    {
     "data": {
      "text/plain": [
       "0    500\n",
       "1    268\n",
       "Name: Outcome, dtype: int64"
      ]
     },
     "execution_count": 3,
     "metadata": {},
     "output_type": "execute_result"
    }
   ],
   "source": [
    "# ****** your code here ******\n",
    "diabetes.Outcome.value_counts()"
   ]
  },
  {
   "cell_type": "markdown",
   "metadata": {},
   "source": [
    "Your answer: This dataset is not class balanced, it is class unbalanced as 0 and 1 do not have the same number of instances. "
   ]
  },
  {
   "cell_type": "markdown",
   "metadata": {},
   "source": [
    "## Question 1.3 [ _ /12 marks]\n",
    "\n",
    "Split the data into train and test sets: Use `train_test_split` with `random_state=0`. Use 50% of the data for training and 50% for testing."
   ]
  },
  {
   "cell_type": "code",
   "execution_count": 4,
   "metadata": {},
   "outputs": [],
   "source": [
    "# Store the input values into a variable called \"X\" [ /4 marks]\n",
    "X = diabetes.iloc[:,0:8].values\n",
    "\n",
    "# Convert 0's and 1's to \"Pos\" and \"Neg\" class labels. Store the output class values into variable \"y\" [ /6 marks]\n",
    "y = diabetes.Outcome.replace({0:\"Neg\", 1:\"Pos\"})\n",
    "\n",
    "# Split your X and y data using train_test_split [ /2 marks]\n",
    "Xtrain, Xtest, ytrain, ytest = train_test_split(X, y, test_size=0.50, random_state=0)"
   ]
  },
  {
   "cell_type": "markdown",
   "metadata": {},
   "source": [
    "## Question 1.4 [ _ /16 marks]\n",
    "\n",
    "Consider sklearn's `LogisticRegression` class. Create a `LogisticRegression` object with `penalty=none`. Train and test this classifier using \"Insulin\" as the independent variable and \"Outcome\" as the dependent variable. Make a scatter plot of the points. Plot your prediction on the same graph."
   ]
  },
  {
   "cell_type": "code",
   "execution_count": 15,
   "metadata": {},
   "outputs": [
    {
     "name": "stdout",
     "output_type": "stream",
     "text": [
      "Intercept:[-0.79113624]\n",
      "Coefficents:[[0.00220983]]\n"
     ]
    },
    {
     "name": "stderr",
     "output_type": "stream",
     "text": [
      "C:\\Users\\User\\anaconda3\\lib\\site-packages\\seaborn\\_decorators.py:36: FutureWarning: Pass the following variables as keyword args: x, y. From version 0.12, the only valid positional argument will be `data`, and passing other arguments without an explicit keyword will result in an error or misinterpretation.\n",
      "  warnings.warn(\n"
     ]
    },
    {
     "data": {
      "text/plain": [
       "<AxesSubplot:title={'center':'Insulin to Diabetes'}, xlabel='Insulin', ylabel='Outcome of Diabetes'>"
      ]
     },
     "execution_count": 15,
     "metadata": {},
     "output_type": "execute_result"
    },
    {
     "data": {
      "image/png": "[encoded data removed]",
      "text/plain": [
       "<Figure size 432x288 with 1 Axes>"
      ]
     },
     "metadata": {
      "needs_background": "light"
     },
     "output_type": "display_data"
    }
   ],
   "source": [
    "# Create a LogisticRegression object without regularization [ /2 marks]\n",
    "logistic_regression= LogisticRegression(penalty=\"none\", max_iter=10000)\n",
    "\n",
    "# Create training data and test data for X [ /4 marks]\n",
    "Xtrain2 = Xtrain[:,[4]]\n",
    "Xtest2 = Xtest[:,[4]]\n",
    "\n",
    "# Fit to your training data using Logistic Regression [ /2 marks]\n",
    "logistic_regression = logistic_regression.fit(Xtrain2, ytrain)\n",
    "print(f\"Intercept:{logistic_regression.intercept_}\\nCoefficents:{logistic_regression.coef_}\")\n",
    "\n",
    "y_pred = logistic_regression.predict(Xtest2)\n",
    "\n",
    "# Create a scatter plot of the test data. Also plot your prediction. [ /8 marks]\n",
    "plt.scatter(diabetes['Insulin'], diabetes['Outcome'])\n",
    "plt.xlabel(\"Insulin\")\n",
    "plt.ylabel(\"Outcome of Diabetes\")\n",
    "plt.title(\"Insulin to Diabetes\")\n",
    "sns.lineplot(Xtest2.reshape(-1), y_pred, color='red')"
   ]
  },
  {
   "cell_type": "markdown",
   "metadata": {},
   "source": [
    "## Question 1.5 [ _ /12 marks]\n",
    "\n",
    "How many True Positives (TP), True Negatives (TN), False Negatives (FN), and False Positives (FP) were there from your classification test results in question 1.4? What was the test accuracy of your classifier? You can use the following formula:\n",
    "\n",
    "$$Accuracy = \\frac{TP + TN}{TP + TN + FP + FN}$$"
   ]
  },
  {
   "cell_type": "code",
   "execution_count": 6,
   "metadata": {},
   "outputs": [
    {
     "name": "stdout",
     "output_type": "stream",
     "text": [
      "tp: 6 tn: 248 fp: 5 fn: 125\n",
      "Accuracy: 0.661\n"
     ]
    }
   ],
   "source": [
    "# Calculate tp, tn, fp, fn, and test accuracy\n",
    "tp = sum(np.logical_and(y_pred == logistic_regression.classes_[1], ytest == logistic_regression.classes_[1]))\n",
    "tn = sum(np.logical_and(y_pred == logistic_regression.classes_[0], ytest == logistic_regression.classes_[0]))\n",
    "fp = sum(np.logical_and(y_pred == logistic_regression.classes_[1], ytest == logistic_regression.classes_[0]))\n",
    "fn = sum(np.logical_and(y_pred == logistic_regression.classes_[0], ytest == logistic_regression.classes_[1]))\n",
    "\n",
    "accuracy = (tp + tn) / (tp + tn + fp + fn)\n",
    "\n",
    "print(f\"tp: {tp} tn: {tn} fp: {fp} fn: {fn}\")\n",
    "print(\"Accuracy:\",round(accuracy,3))"
   ]
  },
  {
   "cell_type": "markdown",
   "metadata": {},
   "source": [
    "## Question 1.6 [ _ /18 marks]\n",
    "\n",
    "Now try adjusting the decision threshold to 0.35 (instead of the default, which is 0.5). Report TP, TN, FP, FN, and Accuracy."
   ]
  },
  {
   "cell_type": "code",
   "execution_count": 7,
   "metadata": {},
   "outputs": [
    {
     "name": "stdout",
     "output_type": "stream",
     "text": [
      "tp: 58 tn: 174 fp: 79 fn: 73\n",
      "Accuracy: 0.604\n"
     ]
    }
   ],
   "source": [
    "# Using your fit from question 1.4, adjust the decision threshold and get the updated predictions [ /6 marks]\n",
    "y_test_prob = logistic_regression.predict_proba(Xtest2)\n",
    "yhat = logistic_regression.classes_[(y_test_prob[:,1]>0.35).astype('int')]\n",
    "\n",
    "# Calculate tp, tn, fp, fn, and test accuracy [ /12 marks]\n",
    "tp = sum(np.logical_and(yhat == logistic_regression.classes_[1], ytest == logistic_regression.classes_[1]))\n",
    "tn = sum(np.logical_and(yhat == logistic_regression.classes_[0], ytest == logistic_regression.classes_[0]))\n",
    "fp = sum(np.logical_and(yhat == logistic_regression.classes_[1], ytest == logistic_regression.classes_[0]))\n",
    "fn = sum(np.logical_and(yhat == logistic_regression.classes_[0], ytest == logistic_regression.classes_[1]))\n",
    "\n",
    "accuracy = (tp + tn) / (tp + tn + fp + fn)\n",
    "\n",
    "print(f\"tp: {tp} tn: {tn} fp: {fp} fn: {fn}\")\n",
    "print(\"Accuracy:\",round(accuracy,3))"
   ]
  },
  {
   "cell_type": "markdown",
   "metadata": {},
   "source": [
    "## Question 1.7 [ _ /6 marks]\n",
    "\n",
    "What happens when the threshold is lowered from question 1.5 to question 1.6? Could one model be more useful than the other? Answer in a few sentences."
   ]
  },
  {
   "cell_type": "markdown",
   "metadata": {},
   "source": [
    "Your answer: When the threshold is lowered this means that more false positives will be found which is the case in our model. We have more incorrect positive predictions. The model with the more false positives may be more useful as there are less false negatives which are a greater risk than a false positive."
   ]
  },
  {
   "cell_type": "markdown",
   "metadata": {},
   "source": [
    "## Question 1.8 [ _ /18 marks]\n",
    "\n",
    "Create another `LogisticRegression` object with `penalty=none`. Train and test this classifier, this time using all input features. Calculate TP, FP, TN, FN, and Accuracy."
   ]
  },
  {
   "cell_type": "code",
   "execution_count": 8,
   "metadata": {},
   "outputs": [
    {
     "name": "stdout",
     "output_type": "stream",
     "text": [
      "tp: 75 tn: 228 fp: 25 fn: 56\n",
      "Accuracy: 0.789\n"
     ]
    }
   ],
   "source": [
    "# Create a LogisticRegression object without regularization [ /2 marks]\n",
    "logistic_regression2= LogisticRegression(penalty=\"none\", max_iter=10000)\n",
    "\n",
    "# Fit to your training data using Logistic Regression [ /2 marks]\n",
    "logistic_regression2 = logistic_regression2.fit(Xtrain, ytrain)\n",
    "\n",
    "# Compute your test predictions, given the test inputs [ /2 marks]\n",
    "y_test_prob2 = logistic_regression2.predict_proba(Xtest)\n",
    "y_pred2 = logistic_regression2.predict(Xtest)\n",
    "\n",
    "# Calculate tp, tn, fp, fn, and test accuracy [ /12 marks]\n",
    "tp = sum(np.logical_and(y_pred2 == logistic_regression2.classes_[1], ytest == logistic_regression2.classes_[1]))\n",
    "tn = sum(np.logical_and(y_pred2 == logistic_regression2.classes_[0], ytest == logistic_regression2.classes_[0]))\n",
    "fp = sum(np.logical_and(y_pred2 == logistic_regression2.classes_[1], ytest == logistic_regression2.classes_[0]))\n",
    "fn = sum(np.logical_and(y_pred2 == logistic_regression2.classes_[0], ytest == logistic_regression2.classes_[1]))\n",
    "\n",
    "accuracy = (tp + tn) / (tp + tn + fp + fn)\n",
    "\n",
    "print(f\"tp: {tp} tn: {tn} fp: {fp} fn: {fn}\")\n",
    "print(\"Accuracy:\",round(accuracy,3))"
   ]
  },
  {
   "cell_type": "markdown",
   "metadata": {},
   "source": [
    "## Question 1.9 [ _ /20 marks]\n",
    "\n",
    "Create a final `LogisticRegression` object with `penalty=l2`, `C=0.01`. Train and test this classifier using all input features. Calculate TP, FP, TN, FN, and Accuracy. Did regularization help in this case? "
   ]
  },
  {
   "cell_type": "code",
   "execution_count": 17,
   "metadata": {},
   "outputs": [
    {
     "name": "stdout",
     "output_type": "stream",
     "text": [
      "Intercept:[-7.8101877]\n",
      "Coefficents:[[ 0.07435517  0.03187323 -0.00740335  0.00682325 -0.00105428  0.08025804\n",
      "   0.0635965   0.02137411]]\n",
      "tp: 74 tn: 228 fp: 25 fn: 57\n",
      "Accuracy: 0.786\n"
     ]
    }
   ],
   "source": [
    "# Create a LogisticRegression object with l2 regularization [ /2 marks]\n",
    "logistic_regression3= LogisticRegression(penalty=\"l2\", C=0.01, max_iter=10000)\n",
    "\n",
    "# Fit to your training data using Logistic Regression [ /2 marks]\n",
    "logistic_regression3 = logistic_regression3.fit(Xtrain, ytrain)\n",
    "\n",
    "# Compute your test predictions, given the test inputs [ /2 marks]\n",
    "y_test_prob3 = logistic_regression3.predict_proba(Xtest)\n",
    "y_pred3 = logistic_regression3.predict(Xtest)\n",
    "\n",
    "print(f\"Intercept:{logistic_regression3.intercept_}\\nCoefficents:{logistic_regression3.coef_}\")\n",
    "\n",
    "# Calculate tp, tn, fp, fn, and test accuracy [ /12 marks]\n",
    "tp = sum(np.logical_and(y_pred3 == logistic_regression3.classes_[1], ytest == logistic_regression3.classes_[1]))\n",
    "tn = sum(np.logical_and(y_pred3 == logistic_regression3.classes_[0], ytest == logistic_regression3.classes_[0]))\n",
    "fp = sum(np.logical_and(y_pred3 == logistic_regression3.classes_[1], ytest == logistic_regression3.classes_[0]))\n",
    "fn = sum(np.logical_and(y_pred3 == logistic_regression3.classes_[0], ytest == logistic_regression3.classes_[1]))\n",
    "\n",
    "accuracy = (tp + tn) / (tp + tn + fp + fn)\n",
    "\n",
    "print(f\"tp: {tp} tn: {tn} fp: {fp} fn: {fn}\")\n",
    "print(\"Accuracy:\",round(accuracy,3))"
   ]
  },
  {
   "cell_type": "markdown",
   "metadata": {},
   "source": [
    "Your answer: \n",
    "In this case, regularization did not help or change much in the data. If we take a look at the coefficients they are very small, therefore using regularization and penalizing the size of the parameters does not do a lot for our data since it is already so small."
   ]
  },
  {
   "cell_type": "markdown",
   "metadata": {},
   "source": [
    "## Question 2.1 [ _ /14 marks]\n",
    "\n",
    "Plot ROC Curves for the classifiers you used in questions 1.4, 1.8, and 1.9. Use AUC to determine which classifier is the best. State the best classifier."
   ]
  },
  {
   "cell_type": "code",
   "execution_count": 19,
   "metadata": {},
   "outputs": [
    {
     "name": "stderr",
     "output_type": "stream",
     "text": [
      "C:\\Users\\User\\anaconda3\\lib\\site-packages\\seaborn\\_decorators.py:36: FutureWarning: Pass the following variables as keyword args: x, y. From version 0.12, the only valid positional argument will be `data`, and passing other arguments without an explicit keyword will result in an error or misinterpretation.\n",
      "  warnings.warn(\n",
      "C:\\Users\\User\\anaconda3\\lib\\site-packages\\seaborn\\_decorators.py:36: FutureWarning: Pass the following variables as keyword args: x, y. From version 0.12, the only valid positional argument will be `data`, and passing other arguments without an explicit keyword will result in an error or misinterpretation.\n",
      "  warnings.warn(\n",
      "C:\\Users\\User\\anaconda3\\lib\\site-packages\\seaborn\\_decorators.py:36: FutureWarning: Pass the following variables as keyword args: x, y. From version 0.12, the only valid positional argument will be `data`, and passing other arguments without an explicit keyword will result in an error or misinterpretation.\n",
      "  warnings.warn(\n"
     ]
    },
    {
     "name": "stdout",
     "output_type": "stream",
     "text": [
      "AUC for Model 1: 0.5322994297438373\n",
      "AUC for Model 2: 0.848052379084573\n",
      "AUC for Model 3: 0.8391817276649669\n"
     ]
    },
    {
     "data": {
      "text/plain": [
       "<matplotlib.legend.Legend at 0x1f209798fd0>"
      ]
     },
     "execution_count": 19,
     "metadata": {},
     "output_type": "execute_result"
    },
    {
     "data": {
      "image/png": "[encoded data removed]",
      "text/plain": [
       "<Figure size 432x288 with 1 Axes>"
      ]
     },
     "metadata": {
      "needs_background": "light"
     },
     "output_type": "display_data"
    }
   ],
   "source": [
    "# Use roc_curve to get FPR and TPR for each of the 3 classifiers [ /6 marks]\n",
    "fpr, tpr, _ = roc_curve(ytest, y_test_prob[:,1], pos_label=\"Pos\") \n",
    "fpr2, tpr2, _ = roc_curve(ytest, y_test_prob2[:,1], pos_label=\"Pos\") \n",
    "fpr3, tpr3, _ = roc_curve(ytest, y_test_prob3[:,1], pos_label=\"Pos\") \n",
    "\n",
    "# Plot all of the ROC curves [ /3 marks]\n",
    "ax = sns.lineplot(fpr,tpr, color=\"red\")\n",
    "ax2 = sns.lineplot(fpr2,tpr2, color=\"blue\")\n",
    "ax3 = sns.lineplot(fpr3,tpr3, color=\"orange\")\n",
    "\n",
    "# Determine AUC for each of the ROC curves [ /3 marks]\n",
    "print(f\"AUC for Model 1: {auc(fpr,tpr)}\")\n",
    "print(f\"AUC for Model 2: {auc(fpr2,tpr2)}\")\n",
    "print(f\"AUC for Model 3: {auc(fpr3,tpr3)}\")\n",
    "\n",
    "plt.xlabel(\"False Positive Rate\")\n",
    "plt.ylabel(\"True Positive Rate\")\n",
    "plt.title(\"ROC Curves per Classifier\")\n",
    "plt.legend([\"Classifier 1.4\",\"Classifier 1.8\",\"Classifier 1.9\"])"
   ]
  },
  {
   "cell_type": "markdown",
   "metadata": {},
   "source": [
    "Your answer: The best classifier in this case is classifier 1.8 where the auc value is as close to 1 as possible and therefore the area under the curve is the greatest, in this case classifier 1.8 has the highest auc of approximately 0.8433."
   ]
  }
 ],
 "metadata": {
  "kernelspec": {
   "display_name": "Python 3",
   "language": "python",
   "name": "python3"
  },
  "language_info": {
   "codemirror_mode": {
    "name": "ipython",
    "version": 3
   },
   "file_extension": ".py",
   "mimetype": "text/x-python",
   "name": "python",
   "nbconvert_exporter": "python",
   "pygments_lexer": "ipython3",
   "version": "3.8.8"
  }
 },
 "nbformat": 4,
 "nbformat_minor": 4
}
