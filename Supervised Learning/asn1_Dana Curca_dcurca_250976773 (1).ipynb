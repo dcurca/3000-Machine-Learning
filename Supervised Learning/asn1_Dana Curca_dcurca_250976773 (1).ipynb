{
 "cells": [
  {
   "cell_type": "markdown",
   "metadata": {},
   "source": [
    "# Assignment 1: Supervised Learning [ __ / 100 marks]"
   ]
  },
  {
   "cell_type": "markdown",
   "metadata": {},
   "source": [
    "<img src=\"https://miro.medium.com/max/700/1*uo6VfVH87jRjMZWVdwq3Vw.png\"/>"
   ]
  },
  {
   "cell_type": "markdown",
   "metadata": {},
   "source": [
    "In this assignment we will be comparing the fits of the $L_2$ (OLS) and $L_1$ (LAD) cost functions on the famous iris dataset. Take a look at L1_C.ipynb if you get stuck (you can find this on OWL --> Lessons --> Week 1: \"Supervised Learning, Regression\"). Note: for brevity, I will write $L_2$ as L2 and $L_1$ as L1."
   ]
  },
  {
   "cell_type": "markdown",
   "metadata": {},
   "source": [
    "#### Before you start..."
   ]
  },
  {
   "cell_type": "markdown",
   "metadata": {},
   "source": [
    "Recall the L1 loss function:\n",
    "\n",
    "$$L_1(\\theta) = \\sum_{i=1}^{n} \\lvert {y_i-\\hat{y_i}} \\rvert$$\n",
    "\n",
    "Also recall the L2 loss function:\n",
    "\n",
    "$$L_2(\\theta) = \\sum_{i=1}^{n} ({y_i-\\hat{y_i}})^2$$"
   ]
  },
  {
   "cell_type": "markdown",
   "metadata": {},
   "source": [
    "#### Ok, let's start..."
   ]
  },
  {
   "cell_type": "code",
   "execution_count": 1,
   "metadata": {},
   "outputs": [],
   "source": [
    "# imports\n",
    "import matplotlib.pyplot as plt \n",
    "import numpy as np\n",
    "import pandas as pd\n",
    "import scipy.optimize as so\n",
    "from IPython.display import display\n",
    "%matplotlib inline"
   ]
  },
  {
   "cell_type": "markdown",
   "metadata": {},
   "source": [
    "### Question 1.1 [ _ /4 marks]"
   ]
  },
  {
   "cell_type": "markdown",
   "metadata": {},
   "source": [
    "Download the file `iris.csv` (from the A1 page) into the same folder as this notebook. Using pandas, read this csv file into a DataFrame. Next, plot a scatter plot using the \"petal.width\" column as your independent variable and \"sepal.length\" as your dependent variable. Label the axes. "
   ]
  },
  {
   "cell_type": "code",
   "execution_count": 2,
   "metadata": {},
   "outputs": [
    {
     "data": {
      "text/html": [
       "<div>\n",
       "<style scoped>\n",
       "    .dataframe tbody tr th:only-of-type {\n",
       "        vertical-align: middle;\n",
       "    }\n",
       "\n",
       "    .dataframe tbody tr th {\n",
       "        vertical-align: top;\n",
       "    }\n",
       "\n",
       "    .dataframe thead th {\n",
       "        text-align: right;\n",
       "    }\n",
       "</style>\n",
       "<table border=\"1\" class=\"dataframe\">\n",
       "  <thead>\n",
       "    <tr style=\"text-align: right;\">\n",
       "      <th></th>\n",
       "      <th>sepal.length</th>\n",
       "      <th>sepal.width</th>\n",
       "      <th>petal.length</th>\n",
       "      <th>petal.width</th>\n",
       "      <th>variety</th>\n",
       "    </tr>\n",
       "  </thead>\n",
       "  <tbody>\n",
       "    <tr>\n",
       "      <th>0</th>\n",
       "      <td>5.1</td>\n",
       "      <td>3.5</td>\n",
       "      <td>1.4</td>\n",
       "      <td>0.2</td>\n",
       "      <td>Setosa</td>\n",
       "    </tr>\n",
       "    <tr>\n",
       "      <th>1</th>\n",
       "      <td>4.9</td>\n",
       "      <td>3.0</td>\n",
       "      <td>1.4</td>\n",
       "      <td>0.2</td>\n",
       "      <td>Setosa</td>\n",
       "    </tr>\n",
       "    <tr>\n",
       "      <th>2</th>\n",
       "      <td>4.7</td>\n",
       "      <td>3.2</td>\n",
       "      <td>1.3</td>\n",
       "      <td>0.2</td>\n",
       "      <td>Setosa</td>\n",
       "    </tr>\n",
       "    <tr>\n",
       "      <th>3</th>\n",
       "      <td>4.6</td>\n",
       "      <td>3.1</td>\n",
       "      <td>1.5</td>\n",
       "      <td>0.2</td>\n",
       "      <td>Setosa</td>\n",
       "    </tr>\n",
       "    <tr>\n",
       "      <th>4</th>\n",
       "      <td>5.0</td>\n",
       "      <td>3.6</td>\n",
       "      <td>1.4</td>\n",
       "      <td>0.2</td>\n",
       "      <td>Setosa</td>\n",
       "    </tr>\n",
       "    <tr>\n",
       "      <th>...</th>\n",
       "      <td>...</td>\n",
       "      <td>...</td>\n",
       "      <td>...</td>\n",
       "      <td>...</td>\n",
       "      <td>...</td>\n",
       "    </tr>\n",
       "    <tr>\n",
       "      <th>145</th>\n",
       "      <td>6.7</td>\n",
       "      <td>3.0</td>\n",
       "      <td>5.2</td>\n",
       "      <td>2.3</td>\n",
       "      <td>Virginica</td>\n",
       "    </tr>\n",
       "    <tr>\n",
       "      <th>146</th>\n",
       "      <td>6.3</td>\n",
       "      <td>2.5</td>\n",
       "      <td>5.0</td>\n",
       "      <td>1.9</td>\n",
       "      <td>Virginica</td>\n",
       "    </tr>\n",
       "    <tr>\n",
       "      <th>147</th>\n",
       "      <td>6.5</td>\n",
       "      <td>3.0</td>\n",
       "      <td>5.2</td>\n",
       "      <td>2.0</td>\n",
       "      <td>Virginica</td>\n",
       "    </tr>\n",
       "    <tr>\n",
       "      <th>148</th>\n",
       "      <td>6.2</td>\n",
       "      <td>3.4</td>\n",
       "      <td>5.4</td>\n",
       "      <td>2.3</td>\n",
       "      <td>Virginica</td>\n",
       "    </tr>\n",
       "    <tr>\n",
       "      <th>149</th>\n",
       "      <td>5.9</td>\n",
       "      <td>3.0</td>\n",
       "      <td>5.1</td>\n",
       "      <td>1.8</td>\n",
       "      <td>Virginica</td>\n",
       "    </tr>\n",
       "  </tbody>\n",
       "</table>\n",
       "<p>150 rows × 5 columns</p>\n",
       "</div>"
      ],
      "text/plain": [
       "     sepal.length  sepal.width  petal.length  petal.width    variety\n",
       "0             5.1          3.5           1.4          0.2     Setosa\n",
       "1             4.9          3.0           1.4          0.2     Setosa\n",
       "2             4.7          3.2           1.3          0.2     Setosa\n",
       "3             4.6          3.1           1.5          0.2     Setosa\n",
       "4             5.0          3.6           1.4          0.2     Setosa\n",
       "..            ...          ...           ...          ...        ...\n",
       "145           6.7          3.0           5.2          2.3  Virginica\n",
       "146           6.3          2.5           5.0          1.9  Virginica\n",
       "147           6.5          3.0           5.2          2.0  Virginica\n",
       "148           6.2          3.4           5.4          2.3  Virginica\n",
       "149           5.9          3.0           5.1          1.8  Virginica\n",
       "\n",
       "[150 rows x 5 columns]"
      ]
     },
     "metadata": {},
     "output_type": "display_data"
    },
    {
     "data": {
      "text/plain": [
       "Text(0, 0.5, 'Sepal Length')"
      ]
     },
     "execution_count": 2,
     "metadata": {},
     "output_type": "execute_result"
    },
    {
     "data": {
      "image/png": "[encoded data removed]",
      "text/plain": [
       "<Figure size 432x288 with 1 Axes>"
      ]
     },
     "metadata": {
      "needs_background": "light"
     },
     "output_type": "display_data"
    }
   ],
   "source": [
    "# read the csv in with pandas [ /1 mark]\n",
    "# ****** your code here ******\n",
    "df = pd.read_csv('iris.csv')\n",
    "display(df)\n",
    "\n",
    "# plot a scatter plot with labels [ /3 marks]\n",
    "# ****** your code here ******\n",
    "plt.scatter(df['petal.width'], df['sepal.length'])\n",
    "plt.xlabel(\"Petal Width\")\n",
    "plt.ylabel(\"Sepal Length\")"
   ]
  },
  {
   "cell_type": "markdown",
   "metadata": {},
   "source": [
    "### Question 1.2 [ _/4 marks]\n",
    "\n",
    "For a linear model we obtain predictions using $ \\mathbf{\\hat{y}} = \\mathbf{X} \\mathbf{b} $, where $\\mathbf{X}$ has a column of ones and a column of inputs $x_i$, and $\\mathbf{b}$ contains parameters $b_0$ and $b_1$. \n",
    "\n",
    "\\begin{equation}\n",
    "\\begin{bmatrix}\n",
    "\\hat{y_0}\\\\\n",
    "\\hat{y_1}\\\\\n",
    ".. \\\\\n",
    "\\hat{y_n}\n",
    "\\end{bmatrix}\n",
    "= \n",
    "\\begin{bmatrix}\n",
    "1 & x_0\\\\\n",
    "1 & x_1\\\\\n",
    ".. & .. \\\\\n",
    "1 & x_n\n",
    "\\end{bmatrix}\n",
    "\\begin{bmatrix}\n",
    "b_0\\\\\n",
    "b_1\\\\\n",
    "\\end{bmatrix}\n",
    "\\end{equation}\n",
    "\n",
    "Write a function called `linearModelPredict` which returns predictions `yp` (a 1d-array) given arguments X (a 2d-array) and b (a 1d-array). Test this function with the values provided (i.e. print or display the result of the function call). "
   ]
  },
  {
   "cell_type": "code",
   "execution_count": 3,
   "metadata": {},
   "outputs": [
    {
     "data": {
      "text/plain": [
       "array([ 0.1, -0.2,  0.7])"
      ]
     },
     "metadata": {},
     "output_type": "display_data"
    }
   ],
   "source": [
    "# write your function here [ /2 marks]\n",
    "def linearModelPredict(b,X):\n",
    "    yp = np.dot(X,b)\n",
    "    return yp\n",
    "\n",
    "# use these provided values\n",
    "X = np.array([[1,0],[1,-1],[1,2]])\n",
    "b = np.array([0.1,0.3])\n",
    "\n",
    "# test your function here [ /2 marks]\n",
    "display(linearModelPredict(b,X))\n"
   ]
  },
  {
   "cell_type": "markdown",
   "metadata": {},
   "source": [
    "### Question 1.3 [ _/8 marks]\n",
    "\n",
    "Write a function called `linearModelLossRSS` which returns a 2-tuple containing the L2 loss value (rss) and the gradient (provided) given arguments b (1d-array), X (2d-array), and y (observed output, a 1d-array). Test linearModelLossRSS with the values provided for X, b, and y by calling said function with these values and displaying or printing the resulting output. "
   ]
  },
  {
   "cell_type": "code",
   "execution_count": 4,
   "metadata": {},
   "outputs": [
    {
     "data": {
      "text/plain": [
       "(2.06, array([-3.6, -4. ]))"
      ]
     },
     "metadata": {},
     "output_type": "display_data"
    }
   ],
   "source": [
    "# write your function here [ /6 marks]\n",
    "def linearModelLossRSS(b,X,y):\n",
    "    yp = linearModelPredict(b,X) \n",
    "    res = y - yp\n",
    "    rss = sum(res**2)\n",
    "    gradient= -2*np.dot(res,X)\n",
    "    return (rss, gradient)\n",
    "\n",
    "# use these provided values \n",
    "X = np.array([[1,0],[1,-1],[1,2]])\n",
    "b = np.array([0.1,0.3])\n",
    "y = np.array([0,0.4,2]) \n",
    "\n",
    "# test your function here [ /2 marks]\n",
    "display(linearModelLossRSS(b,X,y))\n"
   ]
  },
  {
   "cell_type": "markdown",
   "metadata": {},
   "source": [
    "### Question 1.4 [ _/8 marks]\n",
    "\n",
    "Write a function called `linearModelLossLAD`: it returns a 2-tuple containing the L1 loss value (sad) and the gradient (provided) given arguments b (1d-array), X (2d-array), and y (observed output, a 1d-array). Test linearModelLossLAD with the values provided for X, b, and y by calling the function with these values and displaying or printing the resulting output."
   ]
  },
  {
   "cell_type": "code",
   "execution_count": 5,
   "metadata": {},
   "outputs": [
    {
     "data": {
      "text/plain": [
       "(2.0, array([-1., -1.]))"
      ]
     },
     "metadata": {},
     "output_type": "display_data"
    }
   ],
   "source": [
    "# write your function here [ /6 marks]\n",
    "def linearModelLossLAD(b,X,y):\n",
    "    yp = linearModelPredict(b,X) \n",
    "    res = y - yp\n",
    "    sad = sum(abs(res))#sum(res**2)\n",
    "    grad = - (np.dot(np.sign(res),X))\n",
    "    return (sad,grad)\n",
    "\n",
    "# use these provided values\n",
    "X = np.array([[1,0],[1,-1],[1,2]])\n",
    "b = np.array([0.1,0.3])\n",
    "y = np.array([0,0.4,2]) \n",
    "\n",
    "#test your function here [ /2 marks]\n",
    "display(linearModelLossLAD(b,X,y))\n"
   ]
  },
  {
   "cell_type": "markdown",
   "metadata": {},
   "source": [
    "### Question 1.5 [ _/14 marks]\n",
    "\n",
    "Write a function called `linearModelFit` which returns a 2-tuple containing a prediction for b (`bpr`, a 1d-array) and the $R^2$ value (`R2`) of your fit, given arguments X (2d-array), y (1d-array), and lossf (the loss function for your fit). For now, set lossf as the L2 loss function that you defined previously. Call linearModelFit with the provided values and print the result."
   ]
  },
  {
   "cell_type": "code",
   "execution_count": 6,
   "metadata": {},
   "outputs": [
    {
     "data": {
      "text/plain": [
       "(array([0.6, 0.6]), 0.75)"
      ]
     },
     "metadata": {},
     "output_type": "display_data"
    }
   ],
   "source": [
    "# write your function here [ /12 marks]\n",
    "def linearModelFit(X,y,lossf = linearModelLossRSS):\n",
    "    nrows,ncols = X.shape\n",
    "    bpr=np.zeros((ncols,1))\n",
    "    RES = so.minimize(lossf, bpr, args=(X,y), jac = True)\n",
    "    bpr= RES.x\n",
    "    res = y - np.mean(y)\n",
    "    TSS = sum(res**2)\n",
    "    RSS,deriv = linearModelLossRSS(bpr,X,y)\n",
    "    R2 = 1 - (RSS/TSS)\n",
    "    return (bpr,R2)\n",
    "\n",
    "# use these provided values\n",
    "X = np.array([[1,0],[1,-1],[1,2]])\n",
    "b = np.array([0.1,0.3])\n",
    "y = np.array([0,0.4,2]) \n",
    "\n",
    "# test your function here [ /2 marks]\n",
    "display(linearModelFit(X,y,lossf = linearModelLossRSS))\n",
    "                   "
   ]
  },
  {
   "cell_type": "markdown",
   "metadata": {},
   "source": [
    "### Question 2.1 [ _/13 marks]\n",
    "\n",
    "Let's fit our L1 and L2 models to the iris data from Question 1.1 and then plot our prediction lines. We'll start with L2: Fit the data from 1.1 using `linearModelFit` (with `lossf = linearModelLossRSS`) to get an estimate for b (name it `bpr`). Use bpr to generate a prediction line for new data `X_new` (provided). In a single figure, plot the data points with the fit line; label the axes; finally, display or print the $R^2$ value (or alternatively, annotate the plot with the $R^2$ value)."
   ]
  },
  {
   "cell_type": "code",
   "execution_count": 7,
   "metadata": {},
   "outputs": [
    {
     "name": "stdout",
     "output_type": "stream",
     "text": [
      "R2 Value:  0.6690276860464135\n"
     ]
    },
    {
     "data": {
      "image/png": "[encoded data removed]",
      "text/plain": [
       "<Figure size 432x288 with 1 Axes>"
      ]
     },
     "metadata": {
      "needs_background": "light"
     },
     "output_type": "display_data"
    }
   ],
   "source": [
    "# put data from 1.1 into X,y [ /4 marks]\n",
    "y = df.loc[:,\"sepal.length\"].values\n",
    "x = df.loc[:, \"petal.width\"].values\n",
    "X = np.transpose(np.concatenate([[np.ones(len(df))], [df[\"petal.width\"].to_numpy()]]))\n",
    "\n",
    "# fit this data with linearModelFit [ /2 marks]\n",
    "bpr, R2 = linearModelFit(X,y,lossf = linearModelLossRSS)\n",
    "\n",
    "# use this data for your prediction plot\n",
    "x_grid = np.linspace(x.min(), x.max(),10)\n",
    "Xnew = np.c_[np.ones(x_grid.size), x_grid]\n",
    "\n",
    "# get your predicted y using Xnew [ /2 marks]\n",
    "yp = linearModelPredict(bpr, Xnew)\n",
    "\n",
    "# plot the iris data with your prediction line, print R2 [ /5 marks]\n",
    "y_predict = linearModelPredict(bpr, X)\n",
    "plt.scatter(x, y)\n",
    "plt.plot(X[:,1], y_predict, color='red')\n",
    "plt.xlabel('Petal Width')\n",
    "plt.ylabel('Sepal Length')\n",
    "print(\"R2 Value: \", R2)"
   ]
  },
  {
   "cell_type": "markdown",
   "metadata": {},
   "source": [
    "### Question 2.2 [ _/15 marks]\n",
    "\n",
    "Now consider L1 as your loss function. Fit the data from 1.1 using `linearModelFit` with `lossf = linearModelLossLAD` to get an estimate for b (name it `bpr`). Use bpr to generate a prediction line for new data `X_new` (provided). In a single figure, plot the data points and fit line; also label the plot with axes; finally, print the $R^2$ value (or annotate the plot). Which of the two fit lines appears to best match the data? Write your answer below."
   ]
  },
  {
   "cell_type": "code",
   "execution_count": 8,
   "metadata": {},
   "outputs": [
    {
     "name": "stdout",
     "output_type": "stream",
     "text": [
      "R2 Value:  0.663857934044439\n"
     ]
    },
    {
     "data": {
      "image/png": "[encoded data removed]",
      "text/plain": [
       "<Figure size 432x288 with 1 Axes>"
      ]
     },
     "metadata": {
      "needs_background": "light"
     },
     "output_type": "display_data"
    }
   ],
   "source": [
    "# put data from 1.1 into X,y [ /4 marks]\n",
    "y = df.loc[:,\"sepal.length\"].values\n",
    "x = df.loc[:,\"petal.width\"].values\n",
    "X = np.transpose(np.concatenate([[np.ones(len(df))], [df[\"petal.width\"].to_numpy()]]))\n",
    "\n",
    "# fit the data with linearModelFit [ /2 marks]\n",
    "bpr, R2 = linearModelFit(X,y,lossf = linearModelLossLAD)\n",
    "\n",
    "# use this data for your prediction plot\n",
    "x_grid = np.linspace(x.min(), x.max(),10)\n",
    "Xnew = np.c_[np.ones(x_grid.size), x_grid]\n",
    "\n",
    "# get your predicted y ('yp') using Xnew [ /2 marks]\n",
    "yp = linearModelPredict(bpr, Xnew)\n",
    "\n",
    "# plot the iris data with your prediction line, print R2 [ /5 marks]\n",
    "#plt.plot(X[:,1], yp, color='red')\n",
    "y_predict = linearModelPredict(bpr, X)\n",
    "plt.scatter(x,y)\n",
    "plt.plot(X[:,1], y_predict, color='red')\n",
    "plt.xlabel('Petal Width')\n",
    "plt.ylabel('Sepal Length')\n",
    "print(\"R2 Value: \", R2)\n",
    "\n",
    "#  Which of the two fit lines appears to best match the data? [ /2 marks]\n",
    "#The fit line that appears to be the best match is the scatter plot using the L2 loss function where \n",
    "#R2 = 0.6690276860464135. Here we can clearly see that there are an equal amount of data above and \n",
    "#below the line of best fit, in regards to the R2 value, the higher the R2 value the better the fit. \n",
    "#Additionally, the L2 loss function works better when the data contains no outliers, which is the case here. "
   ]
  },
  {
   "cell_type": "markdown",
   "metadata": {},
   "source": [
    "### Question 2.3 [ _/20 marks]"
   ]
  },
  {
   "cell_type": "markdown",
   "metadata": {},
   "source": [
    "Download the file `outliers.csv` (from the A1 page) into the same folder as this notebook. Using pandas, read this file into a DataFrame, then append this to your iris dataset DataFrame. Perform an L1 fit and an L2 fit on this combined DataFrame (iris + outliers). Finally, plot lines of best fit using new x values (i.e. the code is provided for the L2 fit and you can reuse those lines of code for L1). Which of the two fit lines appears to best match the data? Write your answer below. "
   ]
  },
  {
   "cell_type": "code",
   "execution_count": 9,
   "metadata": {},
   "outputs": [
    {
     "data": {
      "text/html": [
       "<div>\n",
       "<style scoped>\n",
       "    .dataframe tbody tr th:only-of-type {\n",
       "        vertical-align: middle;\n",
       "    }\n",
       "\n",
       "    .dataframe tbody tr th {\n",
       "        vertical-align: top;\n",
       "    }\n",
       "\n",
       "    .dataframe thead th {\n",
       "        text-align: right;\n",
       "    }\n",
       "</style>\n",
       "<table border=\"1\" class=\"dataframe\">\n",
       "  <thead>\n",
       "    <tr style=\"text-align: right;\">\n",
       "      <th></th>\n",
       "      <th>sepal.length</th>\n",
       "      <th>sepal.width</th>\n",
       "      <th>petal.length</th>\n",
       "      <th>petal.width</th>\n",
       "      <th>variety</th>\n",
       "    </tr>\n",
       "  </thead>\n",
       "  <tbody>\n",
       "    <tr>\n",
       "      <th>0</th>\n",
       "      <td>5.10</td>\n",
       "      <td>3.5</td>\n",
       "      <td>1.4</td>\n",
       "      <td>0.20</td>\n",
       "      <td>Setosa</td>\n",
       "    </tr>\n",
       "    <tr>\n",
       "      <th>1</th>\n",
       "      <td>4.90</td>\n",
       "      <td>3.0</td>\n",
       "      <td>1.4</td>\n",
       "      <td>0.20</td>\n",
       "      <td>Setosa</td>\n",
       "    </tr>\n",
       "    <tr>\n",
       "      <th>2</th>\n",
       "      <td>4.70</td>\n",
       "      <td>3.2</td>\n",
       "      <td>1.3</td>\n",
       "      <td>0.20</td>\n",
       "      <td>Setosa</td>\n",
       "    </tr>\n",
       "    <tr>\n",
       "      <th>3</th>\n",
       "      <td>4.60</td>\n",
       "      <td>3.1</td>\n",
       "      <td>1.5</td>\n",
       "      <td>0.20</td>\n",
       "      <td>Setosa</td>\n",
       "    </tr>\n",
       "    <tr>\n",
       "      <th>4</th>\n",
       "      <td>5.00</td>\n",
       "      <td>3.6</td>\n",
       "      <td>1.4</td>\n",
       "      <td>0.20</td>\n",
       "      <td>Setosa</td>\n",
       "    </tr>\n",
       "    <tr>\n",
       "      <th>...</th>\n",
       "      <td>...</td>\n",
       "      <td>...</td>\n",
       "      <td>...</td>\n",
       "      <td>...</td>\n",
       "      <td>...</td>\n",
       "    </tr>\n",
       "    <tr>\n",
       "      <th>157</th>\n",
       "      <td>8.30</td>\n",
       "      <td>2.6</td>\n",
       "      <td>4.9</td>\n",
       "      <td>0.40</td>\n",
       "      <td>Versicolor</td>\n",
       "    </tr>\n",
       "    <tr>\n",
       "      <th>158</th>\n",
       "      <td>9.30</td>\n",
       "      <td>3.0</td>\n",
       "      <td>1.3</td>\n",
       "      <td>0.23</td>\n",
       "      <td>Setosa</td>\n",
       "    </tr>\n",
       "    <tr>\n",
       "      <th>159</th>\n",
       "      <td>8.25</td>\n",
       "      <td>3.1</td>\n",
       "      <td>1.6</td>\n",
       "      <td>0.28</td>\n",
       "      <td>Setosa</td>\n",
       "    </tr>\n",
       "    <tr>\n",
       "      <th>160</th>\n",
       "      <td>8.90</td>\n",
       "      <td>2.2</td>\n",
       "      <td>4.4</td>\n",
       "      <td>0.51</td>\n",
       "      <td>Versicolor</td>\n",
       "    </tr>\n",
       "    <tr>\n",
       "      <th>161</th>\n",
       "      <td>7.80</td>\n",
       "      <td>2.6</td>\n",
       "      <td>4.9</td>\n",
       "      <td>0.48</td>\n",
       "      <td>Versicolor</td>\n",
       "    </tr>\n",
       "  </tbody>\n",
       "</table>\n",
       "<p>162 rows × 5 columns</p>\n",
       "</div>"
      ],
      "text/plain": [
       "     sepal.length  sepal.width  petal.length  petal.width     variety\n",
       "0            5.10          3.5           1.4         0.20      Setosa\n",
       "1            4.90          3.0           1.4         0.20      Setosa\n",
       "2            4.70          3.2           1.3         0.20      Setosa\n",
       "3            4.60          3.1           1.5         0.20      Setosa\n",
       "4            5.00          3.6           1.4         0.20      Setosa\n",
       "..            ...          ...           ...          ...         ...\n",
       "157          8.30          2.6           4.9         0.40  Versicolor\n",
       "158          9.30          3.0           1.3         0.23      Setosa\n",
       "159          8.25          3.1           1.6         0.28      Setosa\n",
       "160          8.90          2.2           4.4         0.51  Versicolor\n",
       "161          7.80          2.6           4.9         0.48  Versicolor\n",
       "\n",
       "[162 rows x 5 columns]"
      ]
     },
     "metadata": {},
     "output_type": "display_data"
    },
    {
     "name": "stdout",
     "output_type": "stream",
     "text": [
      "RSS R2 Value:  0.15124448500185006\n",
      "LAD R2 Value:  0.048636124413091064\n"
     ]
    },
    {
     "data": {
      "image/png": "[encoded data removed]",
      "text/plain": [
       "<Figure size 432x288 with 1 Axes>"
      ]
     },
     "metadata": {
      "needs_background": "light"
     },
     "output_type": "display_data"
    }
   ],
   "source": [
    "# read outliers.csv, append it to original dataframe [ /2 marks]\n",
    "df2 = pd.read_csv('outliers.csv')\n",
    "df_out = df.append(df2, ignore_index=True)\n",
    "display(df_out)\n",
    "\n",
    "# put data (iris + outliers) into variables X,y [ /5 marks]\n",
    "y = df_out.loc[:,\"sepal.length\"].values\n",
    "x = df_out.loc[:,\"petal.width\"].values\n",
    "X = np.transpose(np.concatenate([[np.ones(len(df_out))], [df_out[\"petal.width\"].to_numpy()]]))\n",
    "\n",
    "# fit the data with linearModelFit [ /2 marks]\n",
    "bpr, R2 = linearModelFit(X,y,lossf = linearModelLossRSS)\n",
    "\n",
    "# use new x data for your prediction plot\n",
    "x_grid = np.linspace(x.min(), x.max(),10)\n",
    "Xnew = np.c_[np.ones(x_grid.size), x_grid]\n",
    "\n",
    "# get your predicted y ('yp') using Xnew [ /2 marks]\n",
    "yp = linearModelPredict(bpr, Xnew)\n",
    "\n",
    "# plot the iris data with your prediction line, print R2 [ /5 marks]\n",
    "y_predict = linearModelPredict(bpr, X)\n",
    "plt.scatter(x,y)\n",
    "plt.plot(X[:,1], y_predict, color='red')\n",
    "plt.xlabel('Petal Width')\n",
    "plt.ylabel('Sepal Length')\n",
    "print(\"RSS R2 Value: \", R2)\n",
    "\n",
    "# repeat the above process for L1 (i.e. repeat lines 10-17 for L1) [ /2 marks]\n",
    "bpr, R2 = linearModelFit(X,y,lossf = linearModelLossLAD)\n",
    "\n",
    "x_grid = np.linspace(x.min(), x.max(),10)\n",
    "Xnew = np.c_[np.ones(x_grid.size), x_grid]\n",
    "\n",
    "yp = linearModelPredict(bpr, Xnew)\n",
    "\n",
    "y_predict = linearModelPredict(bpr, X)\n",
    "plt.plot(X[:,1], y_predict, color='blue')\n",
    "print(\"LAD R2 Value: \", R2)\n",
    "\n",
    "#  Which of the two fit lines appears to best match the data? [ /2 marks]'''\n",
    "#The fit line that matches the data the best is the R2 value of 0.151244.... This is because a higher R2 value signifies\n",
    "#that the variance in the data has been taken into consideration, with the addition of outliers the LAD R2 Value did\n",
    "#not take into consideration the outliers in the data and instead found a best fit for the general data distribution\n",
    "#with the RSS R2 value we can clearly see that the outliers were considered with a higher line at the beginning with a \n",
    "#clear decline falling below the LAD R2 line.\n"
   ]
  },
  {
   "cell_type": "markdown",
   "metadata": {},
   "source": [
    "### Question 2.4: [ _/14 marks]\n",
    "\n",
    "Ok, let's put everything together into a single plot. To start, plot the combined DataFrame (iris + outliers). Next, plot prediction lines for L1 and L2 fits on the combined data. Finally, plot prediction lines for L1 and L2 fits on the original (iris) data. Add a legend; also add axis labels. *Based on this plot, does L1 loss or L2 loss appear to be more robust to outliers?*"
   ]
  },
  {
   "cell_type": "code",
   "execution_count": 15,
   "metadata": {},
   "outputs": [
    {
     "data": {
      "image/png": "[encoded data removed]",
      "text/plain": [
       "<Figure size 1080x720 with 1 Axes>"
      ]
     },
     "metadata": {
      "needs_background": "light"
     },
     "output_type": "display_data"
    }
   ],
   "source": [
    "# this increases the figure size for added viewability\n",
    "from pylab import rcParams\n",
    "rcParams['figure.figsize'] = 15, 10\n",
    "\n",
    "# plot the data and fits (L1, L2) for the combined dataset [ /5 marks]\n",
    "y = df_out.loc[:,\"sepal.length\"].values\n",
    "x = df_out.loc[:,\"petal.width\"].values\n",
    "plt.scatter(x,y)\n",
    "\n",
    "#L2\n",
    "X = np.transpose(np.concatenate([[np.ones(len(df_out))], [df_out[\"petal.width\"].to_numpy()]]))\n",
    "y = df_out[\"sepal.length\"].to_numpy()\n",
    "\n",
    "betas, R2 = linearModelFit(X,y, lossf = linearModelLossRSS)\n",
    "\n",
    "y_pred = linearModelPredict(betas, X)\n",
    "plt.plot(X[:,1],y_pred, color='red')\n",
    "plt.xlabel('Petal Width')\n",
    "plt.ylabel('Sepal Length')\n",
    "\n",
    "#L1\n",
    "betas, R2 = linearModelFit(X,y,lossf = linearModelLossLAD)\n",
    "\n",
    "y_pred = linearModelPredict(betas, X)\n",
    "plt.plot(X[:,1],y_pred, color='blue')\n",
    "\n",
    "# plot fits (L1, L2) for the original iris dataset [ /5 marks], include legend/labels [ /2 marks]\n",
    "#remove outliers\n",
    "X = np.transpose(np.concatenate([[np.ones(len(df))], [df[\"petal.width\"].to_numpy()]]))\n",
    "y = df[\"sepal.length\"].to_numpy()\n",
    "\n",
    "#L2\n",
    "betas, R2 = linearModelFit(X,y,lossf = linearModelLossRSS)\n",
    "y_pred = linearModelPredict(betas, X)\n",
    "plt.plot(X[:,1],y_pred, color='green')\n",
    "plt.xlabel('Petal Width')\n",
    "plt.ylabel('Sepal Length')\n",
    "plt.title('Comparison of L1 and L2 Prediction Lines for Iris Data and Iris + Outlier Data')\n",
    "\n",
    "#L1\n",
    "betas, R2 = linearModelFit(X,y,lossf = linearModelLossLAD)\n",
    "\n",
    "y_pred = linearModelPredict(betas, X)\n",
    "plt.plot(X[:,1],y_pred, color='orange')\n",
    "\n",
    "plt.legend([\"RSS L2 Outliers\",\"LAD L1 Outliers\",\"RSS L2 w/o Outliers\",\"LAD L1 w/o Outliers\"])\n",
    "plt.show()\n",
    "# Based on this plot, does L1 loss or L2 loss appear to be more robust to outliers? [ /2 marks]'''''\n",
    "#Based on plotting all the prediction lines in one graph, we can see that the L1 loss functions are generally more \n",
    "#robust and are not affected by outliers. In contrast the L2 loss function adjusts to the variance in the data \n",
    "#based on the new introduced outliers. \n",
    "\n"
   ]
  },
  {
   "cell_type": "code",
   "execution_count": null,
   "metadata": {},
   "outputs": [],
   "source": []
  }
 ],
 "metadata": {
  "kernelspec": {
   "display_name": "Python 3",
   "language": "python",
   "name": "python3"
  },
  "language_info": {
   "codemirror_mode": {
    "name": "ipython",
    "version": 3
   },
   "file_extension": ".py",
   "mimetype": "text/x-python",
   "name": "python",
   "nbconvert_exporter": "python",
   "pygments_lexer": "ipython3",
   "version": "3.8.8"
  }
 },
 "nbformat": 4,
 "nbformat_minor": 4
}
